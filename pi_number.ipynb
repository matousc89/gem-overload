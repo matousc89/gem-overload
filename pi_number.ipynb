{
  "nbformat": 4,
  "nbformat_minor": 0,
  "metadata": {
    "colab": {
      "name": "pi_number.ipynb",
      "provenance": []
    },
    "kernelspec": {
      "name": "python3",
      "display_name": "Python 3"
    },
    "language_info": {
      "name": "python"
    }
  },
  "cells": [
    {
      "cell_type": "markdown",
      "metadata": {
        "id": "_xrw0_HdWHNc"
      },
      "source": [
        "# PI number - step into history of computation\n",
        "Lets see some ways how to obtain PI number using some infinite series and check their convergence.\n",
        "\n",
        "Lets remind first few dicemal digits\n",
        "$\\pi=3.14159265358979323846264338327950288419716939937510...$\n",
        "\n",
        "### Francois Vietes approach\n",
        "It was the firt infinite sequence disovered in Europe in 1593 that produce PI number using serie of infinite product.\n",
        "\n",
        "$\\frac{2}{\\pi}=\\frac{\\sqrt{2}}{2}\\cdot\\frac{\\sqrt{2+\\sqrt{2}}}{2}\\cdot\\frac{\\sqrt{2+\\sqrt{2+\\sqrt{2}}}}{2}\\cdots $ \n"
      ]
    },
    {
      "cell_type": "code",
      "metadata": {
        "colab": {
          "base_uri": "https://localhost:8080/"
        },
        "id": "PlrF7LrYV4GQ",
        "outputId": "80a92f44-dae2-4919-e1f7-9f67881c855e"
      },
      "source": [
        "from math import sqrt\n",
        "from math import pi, log10\n",
        "from matplotlib import pyplot as plt\n",
        "\n",
        "\n",
        "results = {}\n",
        "number_of_iterations = 1000\n",
        "pi_number = 2\n",
        "sqrt_term = 0\n",
        "for i in range(number_of_iterations):\n",
        "  sqrt_term = sqrt(2 + sqrt_term)\n",
        "  pi_number = pi_number * 2 / sqrt_term\n",
        "absolute_error = abs(pi - pi_number)\n",
        "results[\"Francoit Vietes\"] = log10(absolute_error)\n",
        "print(\"The value of number PI after {:d} iterations is {:.20f}\".format(number_of_iterations, pi_number))\n",
        "print(\"The error compared to Python math PI is {:e}\".format(absolute_error))"
      ],
      "execution_count": 92,
      "outputs": [
        {
          "output_type": "stream",
          "text": [
            "The value of number PI after 1000 iterations is 3.14159265358979444827\n",
            "The error compared to Python math PI is 1.332268e-15\n"
          ],
          "name": "stdout"
        }
      ]
    },
    {
      "cell_type": "markdown",
      "metadata": {
        "id": "ZYXiGnyW5TZ2"
      },
      "source": [
        "### Another infinite sequence by John Wallis\n",
        "It was found in 1655 and again, the infinite product is used.\n",
        "\n",
        "$\\frac{\\pi}{2}=\\big(\\frac{2}{1}\\cdot\\frac{2}{3}\\big)\\cdot\\big(\\frac{4}{3}\\cdot\\frac{4}{5}\\big)\\cdot\\big(\\frac{6}{5}\\cdot\\frac{6}{7}\\big)\\cdot\\big(\\frac{8}{7}\\cdot\\frac{8}{9}\\big)\\cdots$"
      ]
    },
    {
      "cell_type": "code",
      "metadata": {
        "colab": {
          "base_uri": "https://localhost:8080/"
        },
        "id": "1ojuAUX27A7e",
        "outputId": "d92c4445-e0a1-4087-db28-cbab0af2ad05"
      },
      "source": [
        "pi_number = 1\n",
        "for i in range(1, number_of_iterations + 1):\n",
        "  pi_number = pi_number * (((2 * i) ** 2) /((2 * i - 1)* (2 * i + 1)))\n",
        "pi_number = pi_number * 2\n",
        "absolute_error = abs(pi - pi_number)\n",
        "results[\"John Wallis\"] = log10(absolute_error)\n",
        "print(\"The value of number PI after {:d} iterations is {:.20f}\".format(number_of_iterations, pi_number))\n",
        "print(\"The error compared to Python math PI is {:e}\".format(absolute_error))"
      ],
      "execution_count": 93,
      "outputs": [
        {
          "output_type": "stream",
          "text": [
            "The value of number PI after 1000 iterations is 3.14080774603040202564\n",
            "The error compared to Python math PI is 7.849076e-04\n"
          ],
          "name": "stdout"
        }
      ]
    },
    {
      "cell_type": "markdown",
      "metadata": {
        "id": "8VQyf8puAHQy"
      },
      "source": [
        "## Madhava`s formula\n",
        "It was rediscovered by James Gregory in 1671 and by Leibniz in 1674.\n",
        "\n",
        "$\\arctan{z}=z - \\frac{z^3}{3} + \\frac{z^5}{5}-\\frac{z^7}{7}+\\cdots$ \n",
        "\n",
        "If we evaluate this formula for $z=1$ we obtain $\\frac{\\pi}{4}$"
      ]
    },
    {
      "cell_type": "code",
      "metadata": {
        "colab": {
          "base_uri": "https://localhost:8080/"
        },
        "id": "D3Flk78VAFq3",
        "outputId": "d055418e-bb79-4669-ee2f-93fcaa28b309"
      },
      "source": [
        "pi_number = 0\n",
        "z = 1\n",
        "for i in range(0, number_of_iterations ):\n",
        "  pi_number = pi_number + ((-1) ** (i)) * (z ** (2 * i + 1)) / (2 * i + 1)\n",
        "pi_number *= 4\n",
        "absolute_error = abs(pi - pi_number)\n",
        "results[\"Madhava\"] = log10(absolute_error)\n",
        "print(\"The value of number PI after {:d} iterations is {:.20f}\".format(number_of_iterations, pi_number))\n",
        "print(\"The error compared to Python math PI is {:e}\".format(absolute_error))"
      ],
      "execution_count": 94,
      "outputs": [
        {
          "output_type": "stream",
          "text": [
            "The value of number PI after 1000 iterations is 3.14059265383979413500\n",
            "The error compared to Python math PI is 9.999997e-04\n"
          ],
          "name": "stdout"
        }
      ]
    },
    {
      "cell_type": "markdown",
      "metadata": {
        "id": "0Vkx9R5XIXiZ"
      },
      "source": [
        "### John Machin`s approach\n",
        "In 1706 John Machin obtain a formul for $\\pi$ computation as\n",
        "$\\frac{\\pi}{4}=4\\arctan{\\frac{1}{5}}-\\arctan{\\frac{1}{239}}$\n",
        "\n",
        "Note, that we can express the $\\arctan$ function as infinite series\n",
        "\n",
        "$\\arctan{z} = \\sum_{n=0}^\\infty \\frac{(-1)^{n}z^{2n+1}}{2n+1}$\n"
      ]
    },
    {
      "cell_type": "code",
      "metadata": {
        "colab": {
          "base_uri": "https://localhost:8080/"
        },
        "id": "wuSMl-N_KUgQ",
        "outputId": "d255d193-60d7-4ff4-abd6-cd6eb20c64c1"
      },
      "source": [
        "z1 = 0.2\n",
        "z2 = 1/239\n",
        "pi_number = 0\n",
        "for i in range(0, number_of_iterations ):\n",
        "  pi_number = pi_number + 4 * ((-1) ** (i)) * (z1 ** (2 * i + 1)) / (2 * i + 1) - ((-1) ** (i)) * (z2 ** (2 * i + 1)) / (2 * i + 1) \n",
        "pi_number *= 4\n",
        "absolute_error = abs(pi - pi_number)\n",
        "results[\"John Machin\"] = log10(absolute_error)\n",
        "print(\"The value of number PI after {:d} iterations is {:.20f}\".format(number_of_iterations, pi_number))\n",
        "print(\"The error compared to Python math PI is {:e}\".format(absolute_error))"
      ],
      "execution_count": 95,
      "outputs": [
        {
          "output_type": "stream",
          "text": [
            "The value of number PI after 1000 iterations is 3.14159265358979400418\n",
            "The error compared to Python math PI is 8.881784e-16\n"
          ],
          "name": "stdout"
        }
      ]
    },
    {
      "cell_type": "markdown",
      "metadata": {
        "id": "yEdPFQZEMzu8"
      },
      "source": [
        "###Gregory-Leibniz series\n",
        "A simple but slowly converging infinite series is Gregory-Lebniz series that is given as\n",
        "\n",
        "$\\pi = \\sum_{n=0}^{\\infty}\\frac{(-1)^n 4}{2n +1}$\n",
        "\n",
        "\n",
        "... ah wait! It is Madhava`s formula for $z=1$!"
      ]
    },
    {
      "cell_type": "code",
      "metadata": {
        "colab": {
          "base_uri": "https://localhost:8080/"
        },
        "id": "czOAFTgENNoB",
        "outputId": "cab0a795-8d4e-485c-9efb-eac6bc07a231"
      },
      "source": [
        "pi_number = 0\n",
        "for i in range(number_of_iterations):\n",
        "  pi_number = pi_number + 4 * (-1) ** i / (2 * i + 1)\n",
        "print(\"The value of number PI after {:d} iterations is {:.20f}\".format(number_of_iterations, pi_number))\n",
        "print(\"The error compared to math PI is {:e}\".format(abs(pi-pi_number)))"
      ],
      "execution_count": 96,
      "outputs": [
        {
          "output_type": "stream",
          "text": [
            "The value of number PI after 1000 iterations is 3.14059265383979413500\n",
            "The error compared to math PI is 9.999997e-04\n"
          ],
          "name": "stdout"
        }
      ]
    },
    {
      "cell_type": "markdown",
      "metadata": {
        "id": "WDEzhmRSOI42"
      },
      "source": [
        "###Nilakantha`s series\n",
        "In the 15th century, the Nilakantha Somayaji, the Indian mathematician comes with infinite series for $pi$ computation, that converges faster than Leibnizs or Gregorys series.\n",
        "\n",
        "$\\pi = 3 + \\frac{4}{2\\cdot3\\cdot4} - \\frac{4}{4\\cdot5\\cdot6} + \\frac{4}{6\\cdot7\\cdot8}-\\frac{4}{8\\cdot9\\cdot10}+\\cdots$\n",
        "\n"
      ]
    },
    {
      "cell_type": "code",
      "metadata": {
        "colab": {
          "base_uri": "https://localhost:8080/"
        },
        "id": "mvWohLmEPZcl",
        "outputId": "2d3310eb-8ca0-485c-830d-1530190e3ce3"
      },
      "source": [
        "pi_number = 3\n",
        "for i in range(0, number_of_iterations ):\n",
        "  pi_number = pi_number + (4  * (-1) ** i) /  ((2 * i+2)*(2 * i+3)*(2 * i+4))\n",
        "absolute_error = abs(pi - pi_number)\n",
        "results[\"Nilakantha\"] = log10(absolute_error)\n",
        "print(\"The value of number PI after {:d} iterations is {:.20f}\".format(number_of_iterations, pi_number))\n",
        "print(\"The error compared to Python math PI is {:e}\".format(absolute_error))"
      ],
      "execution_count": 97,
      "outputs": [
        {
          "output_type": "stream",
          "text": [
            "The value of number PI after 1000 iterations is 3.14159265334054405017\n",
            "The error compared to Python math PI is 2.492491e-10\n"
          ],
          "name": "stdout"
        }
      ]
    },
    {
      "cell_type": "markdown",
      "metadata": {
        "id": "pZyFoVzOVZ-O"
      },
      "source": [
        "###Comments on other computational methods\n",
        "\n",
        "Note that there are many more methods how to compute $\\pi$. The formulas are much more complicated and has been developed mainly in 20th century. Those approchaes may be the topic for another notebook. Lets just mention the spigot algorithm discoveder in 1995 by Simon Ploufle (the BBP digit extracion algorithm) that can produce individual hexadecimal digit of $\\pi$ without calculating all the preceding digits!\n",
        "\n",
        "$\\pi= \\sum_{k=0}^\\infty \\frac{1}{16^k}\\cdot\\big(\\frac{8}{8k+1} - \\frac{2}{8k+4}-\\frac{1}{8k+5}-\\frac{1}{8k+6} \\big)$\n",
        "\n",
        "Thats pretty magic right!\n"
      ]
    },
    {
      "cell_type": "code",
      "metadata": {
        "colab": {
          "base_uri": "https://localhost:8080/"
        },
        "id": "MrIRF7CuWakG",
        "outputId": "9df199be-be32-4eb1-a4cf-bde7360e4f2e"
      },
      "source": [
        "pi_number = 0\n",
        "for i in range(number_of_iterations):\n",
        "  pi_number = pi_number + (1 / (16 ** i)) * (4 / (8 * i + 1) - 2 / (8 * i + 4) - 1 / (8 * i + 5) - 1 / (8 * i + 6))\n",
        "absolute_error = abs(pi - pi_number)\n",
        "if absolute_error > 0:\n",
        "  results[\"Simon Ploufle\"] = log10(absolute_error)\n",
        "else:\n",
        "  results[\"Simon Ploufle\"] = 0\n",
        "print(\"The value of number PI after {:d} iterations is {:.20f}\".format(number_of_iterations, pi_number))\n",
        "print(\"The error compared to Python math PI is {:e}\".format(absolute_error))"
      ],
      "execution_count": 98,
      "outputs": [
        {
          "output_type": "stream",
          "text": [
            "The value of number PI after 1000 iterations is 3.14159265358979311600\n",
            "The error compared to Python math PI is 0.000000e+00\n"
          ],
          "name": "stdout"
        }
      ]
    },
    {
      "cell_type": "markdown",
      "metadata": {
        "id": "a8FFTiImYoDL"
      },
      "source": [
        "###Comparison of error\n",
        "Lets check the errors of all featured methods. Note that all of methods performed the same number of iterations.\n"
      ]
    },
    {
      "cell_type": "code",
      "metadata": {
        "colab": {
          "base_uri": "https://localhost:8080/",
          "height": 303
        },
        "id": "uAZKV1B0Y42x",
        "outputId": "3f870941-825f-4571-ce47-2baec07bc1cd"
      },
      "source": [
        "methods = results.keys()\n",
        "print(results.values())\n",
        "errors = [results[k] for k in results]\n",
        "print(errors)\n",
        "plt.bar(methods, errors)\n",
        "plt.ylabel(\"$log(err)$\")\n",
        "plt.show()"
      ],
      "execution_count": 101,
      "outputs": [
        {
          "output_type": "stream",
          "text": [
            "dict_values([-14.875408524143378, -3.1051814882360675, -3.000000108574077, -15.05149978319906, -9.603366460719815, 0])\n",
            "[-14.875408524143378, -3.1051814882360675, -3.000000108574077, -15.05149978319906, -9.603366460719815, 0]\n"
          ],
          "name": "stdout"
        },
        {
          "output_type": "display_data",
          "data": {
            "image/png": "[encoded data removed]",
            "text/plain": [
              "<Figure size 432x288 with 1 Axes>"
            ]
          },
          "metadata": {
            "tags": [],
            "needs_background": "light"
          }
        }
      ]
    }
  ]
}