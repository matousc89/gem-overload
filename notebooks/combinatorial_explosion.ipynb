{
 "cells": [
  {
   "cell_type": "markdown",
   "id": "97f2920c",
   "metadata": {},
   "source": [
    "# Combinatorial explosion\n",
    "\n",
    "A combinatorial explosion is the rapid growth of the complexity of a problem due to how the combinatorics of the problem is affected by the input, constraints, and bounds of the problem."
   ]
  },
  {
   "cell_type": "code",
   "execution_count": 1,
   "id": "c98d1c67",
   "metadata": {},
   "outputs": [],
   "source": [
    "import math\n",
    "import matplotlib.pylab as plt"
   ]
  },
  {
   "cell_type": "code",
   "execution_count": 2,
   "id": "746ec93d",
   "metadata": {},
   "outputs": [],
   "source": [
    "results = [(n, math.factorial(n)) for n in range(10, 101, 10)]"
   ]
  },
  {
   "cell_type": "code",
   "execution_count": 3,
   "id": "358b16e1",
   "metadata": {},
   "outputs": [
    {
     "name": "stdout",
     "output_type": "stream",
     "text": [
      "10! \t\t 3628800\n",
      "20! \t\t 2.432902e+18\n",
      "30! \t\t 2.652529e+32\n",
      "40! \t\t 8.159153e+47\n",
      "50! \t\t 3.041409e+64\n",
      "60! \t\t 8.320987e+81\n",
      "70! \t\t 1.197857e+100\n",
      "80! \t\t 7.156946e+118\n",
      "90! \t\t 1.485716e+138\n",
      "100! \t\t 9.332622e+157\n"
     ]
    }
   ],
   "source": [
    "for number, factorial in results:   \n",
    "    print(\"{}!\".format(number), \"\\t\\t\", \"{:e}\".format(factorial) if factorial > 10000000 else factorial)"
   ]
  },
  {
   "cell_type": "markdown",
   "id": "31cd7c3e",
   "metadata": {},
   "source": [
    "For comparision, there only between $10^{78}$ to $10^{82}$ atoms in the observable universe."
   ]
  },
  {
   "cell_type": "code",
   "execution_count": 4,
   "id": "99f2e024",
   "metadata": {},
   "outputs": [
    {
     "data": {
      "image/png": "[encoded data removed]",
      "text/plain": [
       "<Figure size 720x360 with 1 Axes>"
      ]
     },
     "metadata": {
      "needs_background": "light"
     },
     "output_type": "display_data"
    }
   ],
   "source": [
    "results = [(n, math.factorial(n)) for n in range(1, 101, 1)]\n",
    "x, y = zip(*results)\n",
    "plt.figure(figsize=(10, 5))\n",
    "plt.plot(x, y)\n",
    "plt.title(\"Combinatorial explosion - y = x!\")\n",
    "plt.ylabel(\"y = x!\")\n",
    "plt.xlabel(\"x\")\n",
    "plt.show()"
   ]
  },
  {
   "cell_type": "code",
   "execution_count": null,
   "id": "67612748",
   "metadata": {},
   "outputs": [],
   "source": []
  }
 ],
 "metadata": {
  "kernelspec": {
   "display_name": "Python 3",
   "language": "python",
   "name": "python3"
  },
  "language_info": {
   "codemirror_mode": {
    "name": "ipython",
    "version": 3
   },
   "file_extension": ".py",
   "mimetype": "text/x-python",
   "name": "python",
   "nbconvert_exporter": "python",
   "pygments_lexer": "ipython3",
   "version": "3.9.13"
  }
 },
 "nbformat": 4,
 "nbformat_minor": 5
}
