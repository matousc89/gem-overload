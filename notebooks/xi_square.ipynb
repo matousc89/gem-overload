{
  "nbformat": 4,
  "nbformat_minor": 0,
  "metadata": {
    "colab": {
      "name": "xi-square.ipynb",
      "provenance": [],
      "collapsed_sections": []
    },
    "kernelspec": {
      "name": "python3",
      "display_name": "Python 3"
    },
    "language_info": {
      "name": "python"
    }
  },
  "cells": [
    {
      "cell_type": "markdown",
      "metadata": {
        "id": "HIdIr3vvycA_"
      },
      "source": [
        "\n",
        "\n",
        "# Chi-square distribution\n",
        "The chi-square distribution with k-degrees of freedom is the distribution of a sum of squares of k independent normal random variables.\n",
        "\n",
        "The probability density function is given as\n",
        "\n",
        "$f(x)=\\frac{x^{\\frac{k}{2}-1}e^{-\\frac{x}{2}}}{2^{\\frac{k}{2}}\\Gamma\\big(\\frac{k}{2}\\big)}$ for all $x>0$.\n",
        "  "
      ]
    },
    {
      "cell_type": "code",
      "metadata": {
        "colab": {
          "base_uri": "https://localhost:8080/",
          "height": 314
        },
        "id": "xiSdN9PzyZhd",
        "outputId": "bae5d027-682a-4581-cb2c-6f2ac6318a2f"
      },
      "source": [
        "import numpy as np\n",
        "from matplotlib import pyplot as plt\n",
        "\n",
        "\n",
        "k = 3\n",
        "sample_size = 1000000\n",
        "random_samples = np.random.randn(k, sample_size)\n",
        "hist, bins = np.histogram(np.sum(random_samples ** 2, axis=0), bins=100, density=True)\n",
        "bin_centers = (bins[1:]+bins[:-1])*0.5\n",
        "plt.plot(bin_centers, hist)\n",
        "plt.margins(x=0)\n",
        "plt.ylabel(\"$f_{}(x)$\".format(k))\n",
        "plt.xlabel(\"x\")\n",
        "plt.title(\"Probability density function of $\\chi$-square distribution with {} degrees of freedom\".format(k))\n",
        "\n",
        "# plt.hist(np.sum(random_samples ** 2, axis=0))\n",
        "\n"
      ],
      "execution_count": 20,
      "outputs": [
        {
          "output_type": "execute_result",
          "data": {
            "text/plain": [
              "Text(0.5, 1.0, 'Probability density function of $\\\\chi$-square distribution with 3 degrees of freedom')"
            ]
          },
          "metadata": {
            "tags": []
          },
          "execution_count": 20
        },
        {
          "output_type": "display_data",
          "data": {
            "image/png": "[encoded data removed]",
            "text/plain": [
              "<Figure size 432x288 with 1 Axes>"
            ]
          },
          "metadata": {
            "tags": [],
            "needs_background": "light"
          }
        }
      ]
    },
    {
      "cell_type": "markdown",
      "metadata": {
        "id": "OG5PwfXxyatP"
      },
      "source": [
        ""
      ]
    }
  ]
}