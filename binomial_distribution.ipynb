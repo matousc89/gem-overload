{
  "nbformat": 4,
  "nbformat_minor": 0,
  "metadata": {
    "colab": {
      "name": "binomial_distribution.ipynb",
      "provenance": []
    },
    "kernelspec": {
      "name": "python3",
      "display_name": "Python 3"
    },
    "language_info": {
      "name": "python"
    }
  },
  "cells": [
    {
      "cell_type": "markdown",
      "metadata": {
        "id": "ScoNI4E84Xeh"
      },
      "source": [
        "#Bionial distribution\n",
        "The binomial distribution with parameters $n$ nad $p$ is a discrete probability distribution of the number of successes in a squence of n independent experiments that have binary outcome (i. e. yes-no, succes-failure, etc.). \n",
        "The probability mass function of binomial distribution is given as\n",
        "\n",
        "$f(k,n,p)=\\binom{n}{k}p^k(1-p)^{n-k}$ \n",
        "\n",
        "and the cumulative distribution function as\n",
        "\n",
        "$F(k,n,p)=\\sum_{i=0}^k\\binom{n}{i}p^i(1-p)^{n-i}$\n",
        "\n",
        "## Example\n",
        "Assume the symetric coin. We are going to perform 10 tosses, what is the probability that we toss head 5 times?\n",
        "\n",
        "$p(5,10,0.5)=\\binom{10}{5}0.5^5(1-0.5)^{10-5}=$\n",
        "\n",
        "So the probability of tossing 5x head with symetric coin in 10 trials is "
      ]
    },
    {
      "cell_type": "code",
      "metadata": {
        "colab": {
          "base_uri": "https://localhost:8080/"
        },
        "id": "NFZMtC4P4R6a",
        "outputId": "6998bd4b-4c86-4d1b-ff44-8590603fad75"
      },
      "source": [
        "from scipy.special import comb\n",
        "from matplotlib import pyplot as plt\n",
        "\n",
        "\n",
        "k = 5\n",
        "n = 10\n",
        "p = 0.5\n",
        "probability = comb(n, k) * p ** k * (1 - p) ** (n - k)\n",
        "print(\"The probability of tossing head {:d} times in {:d} trials is {:.2f}  (the probability of head outcome is {:.2f}).\".format(k, n, probability,p))"
      ],
      "execution_count": 16,
      "outputs": [
        {
          "output_type": "stream",
          "text": [
            "The probability of tossing head 5 times in 10 trials is 0.25  (the probability of head outcome is 0.50).\n"
          ],
          "name": "stdout"
        }
      ]
    },
    {
      "cell_type": "markdown",
      "metadata": {
        "id": "A5AtPEwv_IHY"
      },
      "source": [
        "What is the probability of tossing head at least 5 times in 10 trials? We have to evaluate the cumulative distribution function."
      ]
    },
    {
      "cell_type": "code",
      "metadata": {
        "colab": {
          "base_uri": "https://localhost:8080/"
        },
        "id": "h7PID4Kb_UQk",
        "outputId": "f4251173-559d-4ccb-ea07-afead4906629"
      },
      "source": [
        "cdf = 0\n",
        "for number_of_heads in range (k + 1):\n",
        "  cdf = cdf + comb(n, number_of_heads) * p ** number_of_heads * (1 - p) ** (n - number_of_heads)\n",
        "print(\"The probability of tossing head at least {:d} times in {:d} trials is {:.2f}  (the probability of head outcome is {:.2f}).\".format(k, n, cdf,p))"
      ],
      "execution_count": 17,
      "outputs": [
        {
          "output_type": "stream",
          "text": [
            "The probability of tossing head at least 5 times in 10 trials is 0.62  (the probability of head outcome is 0.50).\n"
          ],
          "name": "stdout"
        }
      ]
    },
    {
      "cell_type": "markdown",
      "metadata": {
        "id": "xz1wcOoFA-nB"
      },
      "source": [
        "Lets see how the probability mass function and cumulative distribution function looks like"
      ]
    },
    {
      "cell_type": "code",
      "metadata": {
        "colab": {
          "base_uri": "https://localhost:8080/",
          "height": 530
        },
        "id": "qdnhxDymBGnT",
        "outputId": "a2b02b0b-0277-4f34-b3bb-4a6daa527e0b"
      },
      "source": [
        "number_of_trials = 10\n",
        "success_probability = 0.5\n",
        "pdf_complete = []\n",
        "cdf_complete = []\n",
        "for number_of_successes in range(number_of_trials + 1):\n",
        "  pdf_complete.append(comb(number_of_trials, number_of_successes) * success_probability ** number_of_successes * (1 - success_probability) ** (number_of_trials - number_of_successes))\n",
        "  if number_of_successes == 0:\n",
        "    cdf_complete.append(pdf_complete[0])\n",
        "  else:\n",
        "    cdf_complete.append(cdf_complete[-1] + pdf_complete[-1])\n",
        "plt.figure(0)\n",
        "plt.plot(pdf_complete, \".\")\n",
        "plt.figure(1)\n",
        "plt.plot(cdf_complete, \".\")"
      ],
      "execution_count": 27,
      "outputs": [
        {
          "output_type": "execute_result",
          "data": {
            "text/plain": [
              "[<matplotlib.lines.Line2D at 0x7f6d2ebc9310>]"
            ]
          },
          "metadata": {
            "tags": []
          },
          "execution_count": 27
        },
        {
          "output_type": "display_data",
          "data": {
            "image/png": "[encoded data removed]",
            "text/plain": [
              "<Figure size 432x288 with 1 Axes>"
            ]
          },
          "metadata": {
            "tags": [],
            "needs_background": "light"
          }
        },
        {
          "output_type": "display_data",
          "data": {
            "image/png": "[encoded data removed]",
            "text/plain": [
              "<Figure size 432x288 with 1 Axes>"
            ]
          },
          "metadata": {
            "tags": [],
            "needs_background": "light"
          }
        }
      ]
    }
  ]
}